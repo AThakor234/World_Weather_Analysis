{
 "cells": [
  {
   "cell_type": "code",
   "execution_count": 12,
   "id": "9035c47d",
   "metadata": {},
   "outputs": [],
   "source": [
    "#Import the random module\n",
    "import random\n",
    "import numpy as np"
   ]
  },
  {
   "cell_type": "code",
   "execution_count": 2,
   "id": "621eb8a0",
   "metadata": {},
   "outputs": [
    {
     "data": {
      "text/plain": [
       "61"
      ]
     },
     "execution_count": 2,
     "metadata": {},
     "output_type": "execute_result"
    }
   ],
   "source": [
    "random.randint(-90,90)"
   ]
  },
  {
   "cell_type": "code",
   "execution_count": 3,
   "id": "c37ccb7d",
   "metadata": {},
   "outputs": [
    {
     "data": {
      "text/plain": [
       "0.09253565618020032"
      ]
     },
     "execution_count": 3,
     "metadata": {},
     "output_type": "execute_result"
    }
   ],
   "source": [
    "random.random()"
   ]
  },
  {
   "cell_type": "code",
   "execution_count": 4,
   "id": "caa7415b",
   "metadata": {},
   "outputs": [
    {
     "data": {
      "text/plain": [
       "-27.64997417512034"
      ]
     },
     "execution_count": 4,
     "metadata": {},
     "output_type": "execute_result"
    }
   ],
   "source": [
    "random_number=random.randint(-90,89)+random.random()\n",
    "random_number"
   ]
  },
  {
   "cell_type": "code",
   "execution_count": 5,
   "id": "22e60046",
   "metadata": {},
   "outputs": [],
   "source": [
    "x = 1\n",
    "latitudes = []\n",
    "while x < 11:\n",
    "    random_lat = random.randint(-90, 89) + random.random()\n",
    "    latitudes.append(random_lat)\n",
    "    x += 1"
   ]
  },
  {
   "cell_type": "code",
   "execution_count": 6,
   "id": "d2f2df84",
   "metadata": {},
   "outputs": [
    {
     "data": {
      "text/plain": [
       "[-27.245873193797824,\n",
       " 74.65179685278996,\n",
       " 85.0335568603871,\n",
       " -66.47261500921769,\n",
       " -73.38570010250037,\n",
       " -80.75608293506181,\n",
       " -4.610601877652387,\n",
       " -72.16555596926747,\n",
       " 66.35652138555125,\n",
       " 41.2775538360688]"
      ]
     },
     "execution_count": 6,
     "metadata": {},
     "output_type": "execute_result"
    }
   ],
   "source": [
    "latitudes"
   ]
  },
  {
   "cell_type": "code",
   "execution_count": 9,
   "id": "6e64158b",
   "metadata": {},
   "outputs": [
    {
     "data": {
      "text/plain": [
       "86"
      ]
     },
     "execution_count": 9,
     "metadata": {},
     "output_type": "execute_result"
    }
   ],
   "source": [
    "random.randrange(-90,90,step=1)"
   ]
  },
  {
   "cell_type": "code",
   "execution_count": 10,
   "id": "dc7d11ca",
   "metadata": {},
   "outputs": [
    {
     "data": {
      "text/plain": [
       "66"
      ]
     },
     "execution_count": 10,
     "metadata": {},
     "output_type": "execute_result"
    }
   ],
   "source": [
    "random.randrange(-90,90,step=3)"
   ]
  },
  {
   "cell_type": "code",
   "execution_count": 11,
   "id": "3714c860",
   "metadata": {},
   "outputs": [
    {
     "data": {
      "text/plain": [
       "-18.385122371070082"
      ]
     },
     "execution_count": 11,
     "metadata": {},
     "output_type": "execute_result"
    }
   ],
   "source": [
    "random.uniform(-90,90)"
   ]
  },
  {
   "cell_type": "code",
   "execution_count": 15,
   "id": "464f1de4",
   "metadata": {},
   "outputs": [
    {
     "data": {
      "text/plain": [
       "array([  2.25064524,  -7.59222791,  11.68208836, -53.79579586,\n",
       "        -2.06458091,  62.42858042,  47.68726575, -12.22526875,\n",
       "        43.63769922, -62.30109924,  68.79436994,  67.77086041,\n",
       "        -4.32493303,  73.54941458,  86.24203272, -28.27859662,\n",
       "        29.54542002,  33.13174832,  62.62427828,  80.57513095,\n",
       "        62.60463227, -13.99996713,  89.46172305,  -6.30776237,\n",
       "       -53.25216389,  23.75805271, -61.85235909,  47.09793866,\n",
       "       -83.90682214,  55.73669572, -73.86110606, -13.62094459,\n",
       "        83.04361447,  77.1012514 ,  39.65209282,   7.10558545,\n",
       "       -31.89487361, -29.24921472, -28.30212321, -60.22767632,\n",
       "        14.44903253, -54.10383109,  57.62536265, -63.23850743,\n",
       "        30.16135547, -64.49449717, -49.36150435, -55.7714475 ,\n",
       "        71.32794235,  14.03426849])"
      ]
     },
     "execution_count": 15,
     "metadata": {},
     "output_type": "execute_result"
    }
   ],
   "source": [
    "np.random.uniform(-90.00,90.00,size=50)"
   ]
  },
  {
   "cell_type": "code",
   "execution_count": 16,
   "id": "1fde9a79",
   "metadata": {},
   "outputs": [],
   "source": [
    "# Import timeit.\n",
    "import timeit"
   ]
  },
  {
   "cell_type": "code",
   "execution_count": 18,
   "id": "b7b477ae",
   "metadata": {},
   "outputs": [
    {
     "name": "stdout",
     "output_type": "stream",
     "text": [
      "12.2 µs ± 425 ns per loop (mean ± std. dev. of 7 runs, 100000 loops each)\n"
     ]
    }
   ],
   "source": [
    "%timeit np.random.uniform(-90.00,90.00,size=1500)"
   ]
  },
  {
   "cell_type": "code",
   "execution_count": 19,
   "id": "94b708eb",
   "metadata": {},
   "outputs": [
    {
     "name": "stdout",
     "output_type": "stream",
     "text": [
      "1.45 ms ± 28.9 µs per loop (mean ± std. dev. of 7 runs, 1000 loops each)\n"
     ]
    }
   ],
   "source": [
    "def latitudes(size):\n",
    "    latitudes = []\n",
    "    x = 0\n",
    "    while x < (size):\n",
    "        random_lat = random.randint(-90, 90) + random.random()\n",
    "        latitudes.append(random_lat)\n",
    "        x += 1\n",
    "    return latitudes\n",
    "# Call the function with 1500.\n",
    "%timeit latitudes(1500)"
   ]
  },
  {
   "cell_type": "code",
   "execution_count": 20,
   "id": "b7edcca2",
   "metadata": {},
   "outputs": [
    {
     "name": "stdout",
     "output_type": "stream",
     "text": [
      "1.48 ms ± 38 µs per loop (mean ± std. dev. of 7 runs, 1000 loops each)\n"
     ]
    }
   ],
   "source": [
    "%timeit latitudes(1500)"
   ]
  },
  {
   "cell_type": "code",
   "execution_count": 1,
   "id": "3550022a",
   "metadata": {},
   "outputs": [],
   "source": [
    "# Import linear regression from the SciPy stats module.\n",
    "\n",
    "from scipy.stats import linregress"
   ]
  },
  {
   "cell_type": "code",
   "execution_count": 2,
   "id": "bd4cfa4f",
   "metadata": {},
   "outputs": [],
   "source": [
    "# Create an equal number of latitudes and temperatures.\n",
    "lats = [42.5, 43.9, 8.1, 36.8, 79.9, 69.1, 25.7, 15.3, 12.7, 64.5]\n",
    "temps = [80.5, 75.3, 90.9, 90.0, 40.4, 62.3, 85.4, 79.6, 72.5, 72.0]"
   ]
  },
  {
   "cell_type": "code",
   "execution_count": 8,
   "id": "c428d321",
   "metadata": {},
   "outputs": [
    {
     "name": "stdout",
     "output_type": "stream",
     "text": [
      "y=-0.45x+92.94\n",
      "The p-value is: 0.011\n"
     ]
    }
   ],
   "source": [
    "# Perform linear regression\n",
    "(slope,intercept,r_value,p_value,std_err)= linregress(lats,temps)\n",
    "\n",
    "# Get the equation of the line.\n",
    "\n",
    "line_eq = \"y=\"+str(round(slope,2))+\"x+\"+str(round(intercept,2))\n",
    "print(line_eq)\n",
    "print(f\"The p-value is: {p_value:.3f}\")"
   ]
  },
  {
   "cell_type": "code",
   "execution_count": 12,
   "id": "ebeda8d9",
   "metadata": {},
   "outputs": [],
   "source": [
    "# Calculate the regression line \"y values \" from the slope and intercept.\n",
    "\n",
    "regress_values = [(lat * slope + intercept) for lat in lats]"
   ]
  },
  {
   "cell_type": "code",
   "execution_count": 13,
   "id": "59f30f93",
   "metadata": {},
   "outputs": [
    {
     "data": {
      "image/png": "[encoded data removed]",
      "text/plain": [
       "<Figure size 640x480 with 1 Axes>"
      ]
     },
     "metadata": {},
     "output_type": "display_data"
    }
   ],
   "source": [
    "# Import Matplotlib.\n",
    "import matplotlib.pyplot as plt\n",
    "# Create a scatter plot of the x and y values.\n",
    "plt.scatter(lats,temps)\n",
    "# Plot the regression line with the x-values and the y coordinates based on the intercept and slope.\n",
    "plt.plot(lats,regress_values,\"r\")\n",
    "# Annotate the text for the line equation and add its coordinates.\n",
    "plt.annotate(line_eq, (10,40), fontsize=15, color=\"red\")\n",
    "plt.xlabel('Latitude')\n",
    "plt.ylabel('Temp')\n",
    "plt.show()"
   ]
  },
  {
   "cell_type": "code",
   "execution_count": null,
   "id": "1b925d3f",
   "metadata": {},
   "outputs": [],
   "source": []
  }
 ],
 "metadata": {
  "kernelspec": {
   "display_name": "PythonData",
   "language": "python",
   "name": "pythondata"
  },
  "language_info": {
   "codemirror_mode": {
    "name": "ipython",
    "version": 3
   },
   "file_extension": ".py",
   "mimetype": "text/x-python",
   "name": "python",
   "nbconvert_exporter": "python",
   "pygments_lexer": "ipython3",
   "version": "3.7.6"
  }
 },
 "nbformat": 4,
 "nbformat_minor": 5
}
